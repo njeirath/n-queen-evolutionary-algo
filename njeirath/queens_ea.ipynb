{
 "cells": [
  {
   "cell_type": "markdown",
   "metadata": {},
   "source": [
    "# N-Queens Problem\n",
    "\n",
    "Here is a solution I put together for the N-Queens problem.  Like Travis's solution [https://github.com/aiml-satx/n-queen-evolutionary-algo/blob/master/tvaught/n-queens-exploration.ipynb] I use an evolutionary algorithm(EA) but I also wanted to see how an EA would handle removing the unique row and column constraint (A.K.A the N-rooks problem) so I allow queens to occupy any row/column regardless of whether there is already a queen in the row/column.  "
   ]
  },
  {
   "cell_type": "code",
   "execution_count": 1,
   "metadata": {},
   "outputs": [],
   "source": [
    "import random\n",
    "from itertools import product\n",
    "from numpy.random import choice\n",
    "import math\n",
    "import datetime\n",
    "import os\n",
    "import shutil\n",
    "import matplotlib.pyplot as plt\n",
    "import collections"
   ]
  },
  {
   "cell_type": "markdown",
   "metadata": {},
   "source": [
    "Since queens can occupy any sqaure on the board, I represent a creature (layout of N queens on the board) as an array of N tuples representing the x,y coordinates of each queen."
   ]
  },
  {
   "cell_type": "code",
   "execution_count": 2,
   "metadata": {},
   "outputs": [
    {
     "name": "stdout",
     "output_type": "stream",
     "text": [
      "Run with N=8, Generations=10000, Pop size=100, Mutations/gen=5 (mutate rate=0.0015625\n"
     ]
    }
   ],
   "source": [
    "# Size of the board (NxN) and the number of queens to be placed\n",
    "N = 8\n",
    "\n",
    "# Maximum number of generations to run before exiting if a valid solution is not found\n",
    "MAX_GENERATIONS = 10000\n",
    "\n",
    "# Number of creatures that exist in each generation\n",
    "POPULATION_SIZE = 100\n",
    "\n",
    "# A way to modify how many mutations occurr in every generation.  \n",
    "# Mutations in this solution are a nudge of either an x or y component of any queen by 1 or -1 (should make sense further down in the code)\n",
    "MUTATIONS_PER_GENERATION = 5\n",
    "\n",
    "# Probability that any x or y coordinate for any queen in a generation will be adjusted +1 or -1\n",
    "# To calculate this we take the desired number of mutations divided by the total number of coordinates that exist\n",
    "# in any generation (population * N * 2) where the 2 represents an x and y coordinate.  We then divide by 2 again\n",
    "# to account for the two sided distribution representing +1 and -1.  \n",
    "# Again hopefully this will make more sense further down in the code.\n",
    "MUTATION_RATE = MUTATIONS_PER_GENERATION / (POPULATION_SIZE * N * 2) / 2\n",
    "\n",
    "print(f\"Run with N={N}, Generations={MAX_GENERATIONS}, Pop size={POPULATION_SIZE}, Mutations/gen={MUTATIONS_PER_GENERATION} (mutate rate={MUTATION_RATE}\")"
   ]
  },
  {
   "cell_type": "markdown",
   "metadata": {},
   "source": [
    "## Diagnostic Utilities\n",
    "\n",
    "The following 3 classes are utilities to log some information about how the algorithm is progressing."
   ]
  },
  {
   "cell_type": "code",
   "execution_count": 3,
   "metadata": {},
   "outputs": [],
   "source": [
    "class Passthrough:\n",
    "    '''\n",
    "    A \"filter\" that simply returns back the current value (no filtering)\n",
    "    '''\n",
    "    def __init__(self):\n",
    "        self.value = None\n",
    "\n",
    "    def add_value(self, value):\n",
    "        self.value = value\n",
    "\n",
    "    def get_value(self):\n",
    "        return self.value\n",
    "\n",
    "    def apply_filter(self, value):\n",
    "        self.add_value(value)\n",
    "        return self.get_value()\n",
    "\n",
    "\n",
    "class ExponentialAvgFilter:\n",
    "    '''\n",
    "    Performs an exponential moving average calculation on the values passed in\n",
    "    '''\n",
    "    def __init__(self, alpha):\n",
    "        self.alpha = alpha\n",
    "        self.value = None\n",
    "\n",
    "    def add_value(self, value):\n",
    "        if self.value is None:\n",
    "            # If this is the first iteration of the algorithm simply seed the value with the value to avoid warm up time\n",
    "            self.value = value\n",
    "        else:\n",
    "            self.value = self.value * (1-self.alpha) + value * self.alpha\n",
    "\n",
    "    def get_value(self):\n",
    "        return self.value\n",
    "\n",
    "    def apply_filter(self, value):\n",
    "        self.add_value(value)\n",
    "        return self.get_value()\n",
    "\n",
    "\n",
    "class ResultWriter:\n",
    "    '''\n",
    "    Where the real (diagnostic) magic happens.  Constructor will make a copy of the current file being run so we have \n",
    "    the ability to experiment with code and parameter changes and can still go back to see the source for any given \n",
    "    run.  It also periodically checkpoints the current data in case we need to kill the run we'll still have some data.\n",
    "    '''\n",
    "    def __init__(self, checkpoint_rate=250):\n",
    "        self.run_id = f\"{datetime.datetime.now():%y%m%d_%H%M%S}\"\n",
    "        self.generation = 0\n",
    "        self.elements = []\n",
    "        self.checkpoint_rate = checkpoint_rate\n",
    "        self.filters = [Passthrough(), Passthrough(), Passthrough(), Passthrough(),\n",
    "                        ExponentialAvgFilter(.1), ExponentialAvgFilter(.1), ExponentialAvgFilter(.1), ExponentialAvgFilter(.1)]\n",
    "        self.winner_found = False\n",
    "        self._initialize()\n",
    "\n",
    "    def _initialize(self):\n",
    "        os.makedirs(self._get_dir(), exist_ok=True)\n",
    "        shutil.copy2(\"queens_ea.ipynb\", self._get_dir())\n",
    "\n",
    "    def apply_filters(self, datas):\n",
    "        return [filter.apply_filter(data) for data, filter in zip(datas, self.filters)]\n",
    "\n",
    "    def add_entry(self, datas):\n",
    "        # NOTE this is pretty ugly as it requires values to be provided in a predetermined order but it was late\n",
    "        # and I ran out of time to clean this up further.\n",
    "        self.elements.append([self.generation] + self.apply_filters(datas + datas))\n",
    "        self.generation += 1\n",
    "        if self.generation % self.checkpoint_rate == 0:\n",
    "            self.flush()\n",
    "\n",
    "    def log_winner(self, creature):\n",
    "        with open(f\"{self._get_dir()}winner_{self.generation}.txt\", \"w\") as f:\n",
    "            f.write(str(creature))\n",
    "        self.winner_found = True\n",
    "\n",
    "    def _get_dir(self):\n",
    "        return f\"results/{self.run_id}/\"\n",
    "\n",
    "    def flush(self):\n",
    "        with open(f\"{self._get_dir()}data.csv\", \"w\") as f:\n",
    "            for e in self.elements:\n",
    "                f.write(f\"{','.join(str(el) for el in e)}\\n\")\n",
    "\n",
    "        x = [x[0] for x in self.elements]\n",
    "        y_fit_raw = [x[1] for x in self.elements]\n",
    "        y_div_raw = [x[2] for x in self.elements]\n",
    "        y_fit_min_raw = [x[3] for x in self.elements]\n",
    "        y_fit_max_raw = [x[4] for x in self.elements]\n",
    "        y_fit_ema = [x[5] for x in self.elements]\n",
    "        y_div_ema = [x[6] for x in self.elements]\n",
    "        y_fit_min_ema = [x[7] for x in self.elements]\n",
    "        y_fit_max_ema = [x[8] for x in self.elements]\n",
    "        fig, ax1 = plt.subplots()\n",
    "        ax1.set_xlabel(\"Generations\")\n",
    "        ax1.set_ylabel(\"Average fitness\", color=\"tab:blue\")\n",
    "        ax2 = ax1.twinx()\n",
    "        ax2.set_ylabel(\"Diversity\", color=\"tab:red\")\n",
    "\n",
    "        ax1.plot(x, y_fit_raw, \"c+\")\n",
    "        ax1.plot(x, y_fit_min_raw, \"c.\")\n",
    "        ax1.plot(x, y_fit_max_raw, \"c.\")\n",
    "\n",
    "        ax2.plot(x, y_div_raw, \"r+\")\n",
    "\n",
    "        ax1.plot(x, y_fit_ema, \"b\")\n",
    "        ax1.plot(x, y_fit_min_ema, \"b\")\n",
    "        ax1.plot(x, y_fit_max_ema, \"b\")\n",
    "\n",
    "        ax2.plot(x, y_div_ema, \"m\")\n",
    "        fig.set_size_inches(12, 8)\n",
    "        fig.savefig(f\"{self._get_dir()}plot.png\")\n",
    "        fig.clf()"
   ]
  },
  {
   "cell_type": "markdown",
   "metadata": {},
   "source": [
    "## Fitness Function\n",
    "Here we have the fitness function I used.  It is very similar to the solution Travis and Mark came up with for the diagonals but also includes fitness of rows and columns.  Also, I initially tried using a sum of the 4 fitness components (rows, columns, positive diagonals, and negative diagonals) but ended up finding that a normalized product of each seemed to work better but this could probably use some further investigation to see if this truly results in better performance or not."
   ]
  },
  {
   "cell_type": "code",
   "execution_count": 4,
   "metadata": {},
   "outputs": [],
   "source": [
    "def measure_fitness(creature, rw):\n",
    "    unique_rows = len(set([x[0] for x in creature]))\n",
    "    unique_cols = len(set([x[1] for x in creature]))\n",
    "    unique_diag1 = len(set([x[0] + x[1] for x in creature]))\n",
    "    unique_diag2 = len(set([x[0] - x[1] for x in creature]))\n",
    "    if N*4 == unique_rows + unique_cols + unique_diag1 + unique_diag2:\n",
    "        print(f\"Found a winner: {creature}\")\n",
    "        rw.log_winner(creature)\n",
    "    # return math.pow(unique_rows + unique_cols + unique_diag1 + unique_diag2, 2)\n",
    "    return (unique_rows/N) * (unique_cols/N) * (unique_diag1/N) * (unique_diag2/N)\n"
   ]
  },
  {
   "cell_type": "markdown",
   "metadata": {},
   "source": [
    "## Generate Children\n",
    "\n",
    "`next_gen_creature` chooses two parents randomly using fitness to weight\n",
    "\n",
    "`procreate` then takes these 2 parents and creates a child with mutations.  It combines the queen locations for each parent and then selects N child queen locations as a weighted random selection where the weights are based on how frequently the queen location appears in each parent (a location that appears in both parents will have a higher liklihood of being selected for the child).  Finally it applies any mutations and returns the child."
   ]
  },
  {
   "cell_type": "code",
   "execution_count": 5,
   "metadata": {},
   "outputs": [],
   "source": [
    "def procreate(p1, p2):\n",
    "    gene_counts = collections.Counter(p1 + p2)\n",
    "    genes = list(gene_counts.keys())\n",
    "    gene_probs = [p/(N*2) for p in gene_counts.values()]\n",
    "    idxs = choice(range(len(genes)), size=N, replace=False, p=gene_probs)\n",
    "    child_genes = [genes[i] for i in idxs]\n",
    "\n",
    "    # Mutate child genes\n",
    "    # Generate an array of N tuples representing x,y mutations to apply.  This is where the 2-sided distribution\n",
    "    # comes into play because we select one of -1, 0, or +1 for the mutation.\n",
    "    mutations = [choice([-1, 0, 1], size=2, replace=True, p=[MUTATION_RATE, 1-2*MUTATION_RATE, MUTATION_RATE]) for _ in range(N)]\n",
    "    \n",
    "    # We need a way to avoid applying a mutation that will create an unviable child (coordinates are off the board)\n",
    "    clamp = lambda x: min(max(x, 0), N-1)\n",
    "    mutated_child = [(clamp(g[0] + m[0]), clamp(g[1] + m[1])) for g, m in zip(child_genes, mutations)]\n",
    "    if len(set(mutated_child)) != N:\n",
    "        # Occasionally a mutation will result in 2 queens in the same square, if this happens simply return the\n",
    "        # unmutated child\n",
    "        return child_genes\n",
    "    else:\n",
    "        return mutated_child\n",
    "\n",
    "\n",
    "def next_gen_creature(parents, fitness_probabilities):\n",
    "    chosen_parents = choice(range(POPULATION_SIZE), size=2, replace=True, p = fitness_probabilities)\n",
    "    p1 = parents[chosen_parents[0]]\n",
    "    p2 = parents[chosen_parents[1]]\n",
    "    return procreate(p1, p2)\n"
   ]
  },
  {
   "cell_type": "code",
   "execution_count": 6,
   "metadata": {},
   "outputs": [],
   "source": [
    "def calculate_diversity(population):\n",
    "    '''\n",
    "    A diagnostic measure to calculate how much diversity exists in the population by computing the number of\n",
    "    unique queen locations present in the entire population\n",
    "    '''\n",
    "    c = []\n",
    "    for p in population:\n",
    "        c += p\n",
    "\n",
    "    return len(set(c))"
   ]
  },
  {
   "cell_type": "markdown",
   "metadata": {},
   "source": [
    "## Run the EA"
   ]
  },
  {
   "cell_type": "code",
   "execution_count": 16,
   "metadata": {
    "scrolled": true
   },
   "outputs": [
    {
     "name": "stdout",
     "output_type": "stream",
     "text": [
      "Found a winner: [(0, 7), (6, 6), (2, 0), (4, 5), (5, 1), (3, 2), (1, 3), (7, 4)]\n",
      "Winner found in generation 648\n"
     ]
    },
    {
     "data": {
      "text/plain": [
       "<Figure size 864x576 with 0 Axes>"
      ]
     },
     "metadata": {},
     "output_type": "display_data"
    },
    {
     "data": {
      "text/plain": [
       "<Figure size 864x576 with 0 Axes>"
      ]
     },
     "metadata": {},
     "output_type": "display_data"
    },
    {
     "data": {
      "text/plain": [
       "<Figure size 864x576 with 0 Axes>"
      ]
     },
     "metadata": {},
     "output_type": "display_data"
    }
   ],
   "source": [
    "# Fill our first generation with random queen locations for the specified number of creatures\n",
    "population = [random.sample(list(product(range(N), repeat=2)), N) for i in range(POPULATION_SIZE)]\n",
    "\n",
    "rw = ResultWriter()\n",
    "for generation in range(MAX_GENERATIONS):\n",
    "    # assess fitness of each generation\n",
    "    fitness = [measure_fitness(c, rw) for c in population]\n",
    "\n",
    "    # Compute and log some diagnostic information about the current generation\n",
    "    fit_min = 0\n",
    "    fit_sum = sum(f - fit_min for f in fitness)\n",
    "    fitness_probabilities = [(f-fit_min)/fit_sum for f in fitness]\n",
    "    rw.add_entry([fit_sum/POPULATION_SIZE, calculate_diversity(population), min(fitness), max(fitness)])\n",
    "\n",
    "    if rw.winner_found:\n",
    "        print(f\"Winner found in generation {generation}\")\n",
    "        break\n",
    "\n",
    "    # generate next generation    \n",
    "    new_population = [next_gen_creature(population, fitness_probabilities) for i in range(POPULATION_SIZE)]\n",
    "    population = new_population\n",
    "\n",
    "# Flush any remaining results before exiting\n",
    "rw.flush()"
   ]
  },
  {
   "cell_type": "markdown",
   "metadata": {},
   "source": [
    "## Results\n",
    "\n",
    "Some data on number of generations required to solve for N=8:\n",
    "\n",
    "[194, 1945, 718, 784, 353, 181, 2224, 4126, 678, 648]\n",
    "\n",
    "For an average of **1185.1** generations and at 100 creatures per generations comes out to **118,510** evalutations."
   ]
  },
  {
   "cell_type": "code",
   "execution_count": null,
   "metadata": {},
   "outputs": [],
   "source": []
  }
 ],
 "metadata": {
  "kernelspec": {
   "display_name": "Python 3",
   "language": "python",
   "name": "python3"
  },
  "language_info": {
   "codemirror_mode": {
    "name": "ipython",
    "version": 3
   },
   "file_extension": ".py",
   "mimetype": "text/x-python",
   "name": "python",
   "nbconvert_exporter": "python",
   "pygments_lexer": "ipython3",
   "version": "3.7.1"
  }
 },
 "nbformat": 4,
 "nbformat_minor": 2
}

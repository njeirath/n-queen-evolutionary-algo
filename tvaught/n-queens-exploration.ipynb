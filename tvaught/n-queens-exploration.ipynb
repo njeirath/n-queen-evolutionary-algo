{
 "cells": [
  {
   "cell_type": "markdown",
   "metadata": {},
   "source": [
    "# N-Queens Problem Exploration with Python and an Evolutionary Algorithm Approach"
   ]
  },
  {
   "cell_type": "code",
   "execution_count": 1,
   "metadata": {},
   "outputs": [],
   "source": [
    "import random, itertools"
   ]
  },
  {
   "cell_type": "markdown",
   "metadata": {},
   "source": [
    "Please see https://github.com/aiml-satx/n-queen-evolutionary-algo/blob/master/README.md for background.\n",
    "\n",
    "A chromosome will be in the form of a tuple with N members representing the location of a queen on each row of an N-row square grid. We reduce our problem space by having only one queen per row and a unique integer for each item in the tuple, which represents one queen per column."
   ]
  },
  {
   "cell_type": "markdown",
   "metadata": {},
   "source": [
    "Let's start with a way to randomly generate a layout of queens, and a utility function to print the layout:"
   ]
  },
  {
   "cell_type": "code",
   "execution_count": 2,
   "metadata": {},
   "outputs": [],
   "source": [
    "def gen_random(N):\n",
    "    queen_layout = list(range(N))\n",
    "    random.shuffle(queen_layout)\n",
    "    return tuple(queen_layout)"
   ]
  },
  {
   "cell_type": "code",
   "execution_count": 3,
   "metadata": {},
   "outputs": [],
   "source": [
    "def print_queen_layout(queen_layout, ascii_out=False):\n",
    "    N = len(queen_layout)\n",
    "    if ascii_out:\n",
    "        qn = ' x '\n",
    "        sq = ' o '\n",
    "    else:\n",
    "        qn = u'\\u265B'\n",
    "        sq = u'\\u2B1C'\n",
    "    print(\"\\n\".join(sq*i+qn+sq*(N-i-1) for i in queen_layout))"
   ]
  },
  {
   "cell_type": "code",
   "execution_count": 4,
   "metadata": {},
   "outputs": [
    {
     "name": "stdout",
     "output_type": "stream",
     "text": [
      "(7, 0, 4, 1, 6, 3, 5, 2)\n",
      "⬜⬜⬜⬜⬜⬜⬜♛\n",
      "♛⬜⬜⬜⬜⬜⬜⬜\n",
      "⬜⬜⬜⬜♛⬜⬜⬜\n",
      "⬜♛⬜⬜⬜⬜⬜⬜\n",
      "⬜⬜⬜⬜⬜⬜♛⬜\n",
      "⬜⬜⬜♛⬜⬜⬜⬜\n",
      "⬜⬜⬜⬜⬜♛⬜⬜\n",
      "⬜⬜♛⬜⬜⬜⬜⬜\n",
      " o  o  o  o  o  o  o  x \n",
      " x  o  o  o  o  o  o  o \n",
      " o  o  o  o  x  o  o  o \n",
      " o  x  o  o  o  o  o  o \n",
      " o  o  o  o  o  o  x  o \n",
      " o  o  o  x  o  o  o  o \n",
      " o  o  o  o  o  x  o  o \n",
      " o  o  x  o  o  o  o  o \n"
     ]
    }
   ],
   "source": [
    "# Let's see how this looks:\n",
    "queen_layout = gen_random(8)\n",
    "print(queen_layout)\n",
    "print_queen_layout(queen_layout, ascii_out=False)\n",
    "print_queen_layout(queen_layout, ascii_out=True)"
   ]
  },
  {
   "cell_type": "markdown",
   "metadata": {},
   "source": [
    "Next define a fitness function to evaluate the fitness chromosome (representing a single member of a population)."
   ]
  },
  {
   "cell_type": "code",
   "execution_count": 5,
   "metadata": {},
   "outputs": [],
   "source": [
    "def nqueens_fitness(queen_layout):\n",
    "    \"\"\" scores a particular layout of n-queens (where each diagonal with a collision deducts a point from \n",
    "            a maximum score of N (with no double-counting.))\n",
    "    \n",
    "        Scoring is from this screenshot from Mark Stumbris:\n",
    "        https://aimlofsanantonio.slack.com/files/UHBE7TYSH/FHB8HC82Y/screen_shot_2019-03-26_at_10.45.17_pm.png\n",
    "        \n",
    "        This is really a cool way to score, because you're taking the sum of the value at a particular\n",
    "            index and its index number (queen_layout[i] + i), which should be unique if there are no other\n",
    "            queens on that diagonal.  So the number of unique sums (or differences for the other diagonals)\n",
    "            should be N in the case of a solution.\n",
    "            \n",
    "        Inputs:\n",
    "            queen_layout: n-tuple of integers \n",
    "    \"\"\"\n",
    "    N = len(queen_layout)\n",
    "    cols = range(N)\n",
    "    if N==len(set(queen_layout[i]+i for i in cols))==len(set(queen_layout[i]-i for i in cols)):\n",
    "        return N\n",
    "    else:\n",
    "        return ((N-len(set(queen_layout[i] + i for i in cols))) + (N-len(set(queen_layout[i]-i for i in cols))))/2\n",
    "        "
   ]
  },
  {
   "cell_type": "markdown",
   "metadata": {},
   "source": [
    "Next we should have a way to randomly mutate an individual chromosome in order to introduce variety in the population."
   ]
  },
  {
   "cell_type": "code",
   "execution_count": 6,
   "metadata": {},
   "outputs": [],
   "source": [
    "def gen_mutate(queen_layout, strength=0.5):\n",
    "    N=len(queen_layout)\n",
    "    queen_layout=list(queen_layout)\n",
    "    strength=strength/N\n",
    "    for i in range(N):\n",
    "        if random.random() <= strength:\n",
    "            # swap value with another item by randomly choosing another item's index (could be itself)\n",
    "            j = random.randint(0,N-1)\n",
    "            queen_layout[i], queen_layout[j] = queen_layout[j], queen_layout[i]\n",
    "    return tuple(queen_layout)\n"
   ]
  },
  {
   "cell_type": "markdown",
   "metadata": {},
   "source": [
    "We should now define a function to \"breed\" two members of a population.  In our case we will randomly snip a section from one parent and drop in the items from the other parent that are not included in the random section, but in the order of the second parent. (I know this sounds confusing, so please see this paper for an illustration: \n",
    "https://arxiv.org/pdf/1802.02006.pdf near the end of section 3.)"
   ]
  },
  {
   "cell_type": "code",
   "execution_count": 7,
   "metadata": {},
   "outputs": [],
   "source": [
    "def gen_crossover(parent_1, parent_2, mutate_prob=0.5):\n",
    "    \n",
    "    N = len(parent_1)\n",
    "    start_idx = random.randint(0, N-2)\n",
    "    end_idx = (random.randint(start_idx+1, (N)))\n",
    "    parent_1 = list(parent_1)\n",
    "    parent_2 = list(parent_2)\n",
    "    \n",
    "    child_1 = parent_1.copy()\n",
    "    child_2 = parent_2.copy()\n",
    "    \n",
    "    for itm in parent_1[start_idx:end_idx]:\n",
    "        child_2.remove(itm)\n",
    "        \n",
    "    for itm in parent_2[start_idx:end_idx]:\n",
    "        child_1.remove(itm)\n",
    "    \n",
    "    parent_temp = parent_1.copy()\n",
    "    for x in reversed(parent_2[start_idx:end_idx]): child_1.insert(start_idx,x)\n",
    "    for x in reversed(parent_temp[start_idx:end_idx]): child_2.insert(start_idx,x)\n",
    "    \n",
    "    # add a mutation step, before returning two children\n",
    "    child_1 = gen_mutate(child_1)\n",
    "    child_2 = gen_mutate(child_2)\n",
    "    return child_1, child_2"
   ]
  },
  {
   "cell_type": "code",
   "execution_count": 8,
   "metadata": {},
   "outputs": [
    {
     "name": "stdout",
     "output_type": "stream",
     "text": [
      "Parent 1: (6, 5, 2, 7, 1, 4, 3, 0), Parent 2: (3, 1, 6, 5, 2, 0, 7, 4)\n",
      "Child 1: (6, 5, 7, 1, 2, 0, 3, 4), Child 2: (3, 6, 5, 2, 1, 0, 7, 4)\n"
     ]
    }
   ],
   "source": [
    "# Try it out:\n",
    "parent_1 = gen_random(8)\n",
    "parent_2 = gen_random(8)\n",
    "child_1, child_2 = gen_crossover(parent_1, parent_2)\n",
    "print(\"Parent 1: %s, Parent 2: %s\" % (parent_1, parent_2))\n",
    "print(\"Child 1: %s, Child 2: %s\" % (child_1, child_2))"
   ]
  },
  {
   "cell_type": "markdown",
   "metadata": {},
   "source": [
    "Now I think we're ready to start up a population, evaluate, select, crossover, mutate and iterate.  We'll do this with a slightly larger grid (10x10) and see what happens:"
   ]
  },
  {
   "cell_type": "code",
   "execution_count": 9,
   "metadata": {},
   "outputs": [
    {
     "name": "stdout",
     "output_type": "stream",
     "text": [
      "Solution found at generation 1407: \n",
      "Population: [(5, 2, 3, 4, 9, 1, 0, 8, 7, 6), (6, 9, 3, 0, 5, 1, 4, 7, 8, 2), (6, 5, 9, 4, 1, 3, 7, 8, 0, 2), (5, 6, 3, 4, 9, 7, 1, 0, 8, 2), (6, 8, 3, 9, 0, 5, 1, 4, 7, 2), (6, 5, 9, 3, 4, 1, 7, 8, 2, 0), (6, 8, 3, 0, 4, 9, 1, 5, 7, 2), (5, 8, 3, 4, 0, 6, 1, 9, 7, 2), (3, 8, 5, 6, 4, 1, 2, 7, 9, 0), (6, 5, 3, 4, 8, 9, 1, 0, 7, 2), (4, 5, 7, 1, 3, 9, 6, 8, 2, 0), (9, 5, 2, 4, 1, 6, 7, 8, 3, 0), (6, 5, 3, 4, 9, 1, 0, 7, 8, 2), (5, 3, 6, 4, 9, 1, 0, 8, 7, 2), (6, 8, 9, 3, 0, 5, 4, 1, 7, 2), (6, 8, 5, 3, 4, 9, 0, 1, 7, 2)]\n",
      "Scores: [4.0, 2.0, 2.5, 4.0, 1.0, 2.5, 10, 2.5, 3.5, 3.5, 2.0, 2.5, 2.5, 2.0, 2.5, 2.5]\n",
      "⬜⬜⬜⬜⬜⬜♛⬜⬜⬜\n",
      "⬜⬜⬜⬜⬜⬜⬜⬜♛⬜\n",
      "⬜⬜⬜♛⬜⬜⬜⬜⬜⬜\n",
      "♛⬜⬜⬜⬜⬜⬜⬜⬜⬜\n",
      "⬜⬜⬜⬜♛⬜⬜⬜⬜⬜\n",
      "⬜⬜⬜⬜⬜⬜⬜⬜⬜♛\n",
      "⬜♛⬜⬜⬜⬜⬜⬜⬜⬜\n",
      "⬜⬜⬜⬜⬜♛⬜⬜⬜⬜\n",
      "⬜⬜⬜⬜⬜⬜⬜♛⬜⬜\n",
      "⬜⬜♛⬜⬜⬜⬜⬜⬜⬜\n",
      "None\n"
     ]
    }
   ],
   "source": [
    "N=10   # number of rows and columns\n",
    "pop_size = 10  # population size\n",
    "max_generations = 5000  # maximum number of generations to create\n",
    "\n",
    "# Initialize population\n",
    "population = [gen_random(N) for i in range(pop_size)]\n",
    "\n",
    "counter=0\n",
    "\n",
    "while True:\n",
    "    counter+=1\n",
    "    # Evaluate population\n",
    "    pop_scores = []\n",
    "    for itm in population:\n",
    "        pop_scores.append(nqueens_fitness(itm))\n",
    "    \n",
    "    if N in pop_scores:\n",
    "        print(\"Solution found at generation %s: \" % (counter))\n",
    "        print (\"Population: %s\\nScores: %s\" % (population, pop_scores))\n",
    "        print(print_queen_layout(population[pop_scores.index(N)]))\n",
    "        break\n",
    "        \n",
    "    #print(\"Scores: %s, avg: %s\" % (pop_scores, sum(pop_scores)/pop_size))\n",
    "\n",
    "    # Select parents\n",
    "    chosen = random.choices(population, weights=pop_scores, k=int(N/2))\n",
    "    \n",
    "    # Combine parents\n",
    "    population=[]\n",
    "    chosen_N = len(chosen)\n",
    "    for i in range(chosen_N-1):\n",
    "        if i==chosen_N-2:\n",
    "            j=0\n",
    "        elif i==chosen_N-1:\n",
    "            j=1\n",
    "        else:\n",
    "            j=i+1\n",
    "        k=j+1\n",
    "        \n",
    "        population.extend(list(gen_crossover(chosen[i], chosen[j])))\n",
    "        population.extend(list(gen_crossover(chosen[i], chosen[k])))\n",
    "        \n",
    "    #print(\"Population: %s, counter: %s\" % (population, counter))\n",
    "    \n",
    "    # Set a limit to the number of iterations\n",
    "    if counter>max_generations:\n",
    "        print(\"No solution found within %s generations.\" % max_generations)\n",
    "        break"
   ]
  },
  {
   "cell_type": "markdown",
   "metadata": {},
   "source": [
    "As an exercise for the reader, perhaps we should run the above cell in a loop and get the average number of generations until a solution.  I just ran it repeatedly and got the following generation counts: (1998, 1302, 337, 2381, 343, 63, 161, 1072).  So, it looks like the number of individual fitness evaluations (population x generations) are on the order of 10,000 on average."
   ]
  },
  {
   "cell_type": "code",
   "execution_count": 10,
   "metadata": {},
   "outputs": [
    {
     "name": "stdout",
     "output_type": "stream",
     "text": [
      "9571.25\n"
     ]
    }
   ],
   "source": [
    "# what is the average number of evaluations.\n",
    "generations = [1998, 1302, 337, 2381, 343, 63, 161, 1072]\n",
    "avg_gens = sum(generations)/len(generations)\n",
    "\n",
    "# Now multiply by the population in each generation to get the number of evaluations:\n",
    "print(avg_gens * 10)"
   ]
  },
  {
   "cell_type": "markdown",
   "metadata": {},
   "source": [
    "We should compare this approach with the brute force approach.  I'll use the aforementioned Mark Stumbris code and count the number of iterations to get to the first solution:"
   ]
  },
  {
   "cell_type": "code",
   "execution_count": 11,
   "metadata": {},
   "outputs": [
    {
     "name": "stdout",
     "output_type": "stream",
     "text": [
      "Solution 1: (0, 2, 5, 7, 9, 4, 8, 1, 3, 6) \n",
      "\n",
      " x  o  o  o  o  o  o  o  o  o \n",
      " o  o  x  o  o  o  o  o  o  o \n",
      " o  o  o  o  o  x  o  o  o  o \n",
      " o  o  o  o  o  o  o  x  o  o \n",
      " o  o  o  o  o  o  o  o  o  x \n",
      " o  o  o  o  x  o  o  o  o  o \n",
      " o  o  o  o  o  o  o  o  x  o \n",
      " o  x  o  o  o  o  o  o  o  o \n",
      " o  o  o  x  o  o  o  o  o  o \n",
      " o  o  o  o  o  o  x  o  o  o \n",
      "58987 itertations\n"
     ]
    }
   ],
   "source": [
    "N=10 # I wouldn't recommend any N>12 or so.\n",
    "sol=0\n",
    "cols=range(N)\n",
    "counter = 0\n",
    "for combo in itertools.permutations(cols):\n",
    "    counter+=1\n",
    "    if N==len(set(combo[i]+i for i in cols))==len(set(combo[i]-i for i in cols)):\n",
    "        sol += 1\n",
    "        print('Solution %s: %s \\n' % (sol, combo))\n",
    "        print_queen_layout(combo, ascii_out=True)\n",
    "        print(\"%s itertations\" % (counter,))\n",
    "        break"
   ]
  },
  {
   "cell_type": "markdown",
   "metadata": {},
   "source": [
    "### Conclusion:"
   ]
  },
  {
   "cell_type": "markdown",
   "metadata": {},
   "source": [
    "So, the EA method averages under 10,000 evaluations to get a solution, where the brute force approach finds its first solution at around 59,000 evaluations."
   ]
  },
  {
   "cell_type": "code",
   "execution_count": null,
   "metadata": {},
   "outputs": [],
   "source": []
  }
 ],
 "metadata": {
  "kernelspec": {
   "display_name": "Python 3",
   "language": "python",
   "name": "python3"
  },
  "language_info": {
   "codemirror_mode": {
    "name": "ipython",
    "version": 3
   },
   "file_extension": ".py",
   "mimetype": "text/x-python",
   "name": "python",
   "nbconvert_exporter": "python",
   "pygments_lexer": "ipython3",
   "version": "3.7.0"
  }
 },
 "nbformat": 4,
 "nbformat_minor": 2
}
